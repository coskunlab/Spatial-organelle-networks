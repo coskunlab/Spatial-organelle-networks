{
 "cells": [
  {
   "cell_type": "markdown",
   "metadata": {},
   "source": [
    "# Calculates area and intensity for all cells for all markers \n",
    "Outputs boxplots"
   ]
  },
  {
   "cell_type": "code",
   "execution_count": 1,
   "metadata": {},
   "outputs": [],
   "source": [
    "import os\n",
    "import glob\n",
    "import sys\n",
    "from pathlib import Path \n",
    "from math import log10, sqrt, ceil, floor, log, exp, pi, isnan\n",
    "import numpy as np\n",
    "import numpy.ma as ma\n",
    "import matplotlib\n",
    "import matplotlib.pyplot as plt\n",
    "import matplotlib.colors as colors\n",
    "import matplotlib.patches as mpatches\n",
    "from mpl_toolkits.axes_grid1.anchored_artists import AnchoredSizeBar\n",
    "import matplotlib.font_manager as fm\n",
    "fontprops = fm.FontProperties(size=30)\n",
    "import matplotlib.gridspec as gridspec\n",
    "from mpl_toolkits.axes_grid1 import make_axes_locatable\n",
    "import cmapy\n",
    "import tifffile\n",
    "import pandas as pd\n",
    "from ast import literal_eval\n",
    "import cv2\n",
    "from PIL import Image\n",
    "from PIL import ImageTk\n",
    "from scipy import fftpack\n",
    "from scipy import ndimage\n",
    "from scipy import stats\n",
    "from scipy.spatial import distance\n",
    "from scipy.cluster import hierarchy\n",
    "from scipy.signal import convolve2d\n",
    "import seaborn as sns\n",
    "from tqdm.notebook import tqdm, trange\n",
    "from skimage import color\n",
    "from sklearn.preprocessing import RobustScaler, StandardScaler\n",
    "import skimage.filters as skf\n",
    "from skimage.filters import laplace, threshold_otsu\n",
    "import skimage.exposure as ske\n",
    "from skimage.transform import rescale\n",
    "from skimage.util import view_as_windows\n",
    "from skimage.feature import canny\n",
    "from skimage.metrics import mean_squared_error as mse\n",
    "from skimage.metrics import structural_similarity as ssim\n",
    "from statannot import add_stat_annotation\n",
    "import scipy\n",
    "import pickle\n",
    "import time\n",
    "\n",
    "import multiprocessing as mp\n",
    "from multiprocessing import Process, Queue, Value, Array, Pool\n",
    "\n",
    "import matplotlib.font_manager as fm\n",
    "%matplotlib inline\n",
    "%gui qt5"
   ]
  },
  {
   "cell_type": "code",
   "execution_count": 2,
   "metadata": {},
   "outputs": [],
   "source": [
    "# # Import path\n",
    "# module_path = str(Path.cwd().parents[0])\n",
    "# if module_path not in sys.path:\n",
    "#     sys.path.append(module_path)\n",
    "\n",
    "# module_path = str(Path.cwd().parents[0] / \"src\")\n",
    "# if module_path not in sys.path:\n",
    "#     sys.path.append(module_path)"
   ]
  },
  {
   "cell_type": "code",
   "execution_count": 3,
   "metadata": {},
   "outputs": [],
   "source": [
    "os.chdir('..')\n",
    "os.chdir('./src')"
   ]
  },
  {
   "cell_type": "code",
   "execution_count": 4,
   "metadata": {},
   "outputs": [],
   "source": [
    "from my_io import display_list_image, read_tiff_files\n",
    "from config import *"
   ]
  },
  {
   "cell_type": "code",
   "execution_count": 5,
   "metadata": {},
   "outputs": [],
   "source": [
    "# Figures location    \n",
    "save_path = f\"{data_figure}/boxplots/\"\n",
    "if not os.path.exists(save_path):\n",
    "    os.makedirs(save_path)"
   ]
  },
  {
   "cell_type": "markdown",
   "metadata": {},
   "source": [
    "### Load the datasets"
   ]
  },
  {
   "cell_type": "code",
   "execution_count": 6,
   "metadata": {},
   "outputs": [],
   "source": [
    "pickle_name_temp = f\"{data_path_masked_BM}/image_list_BM.pickle\"\n",
    "zoomed_image_list_BM = pickle.load(open(pickle_name_temp, \"rb\"))\n",
    "\n",
    "pickle_name_temp = f\"{data_path_masked_UC}/image_list_UC.pickle\"\n",
    "zoomed_image_list_UC = pickle.load(open(pickle_name_temp, \"rb\"))"
   ]
  },
  {
   "cell_type": "code",
   "execution_count": 7,
   "metadata": {},
   "outputs": [],
   "source": [
    "pickle_name_temp = f\"{data_path_masked_BM}/mask_list_BM.pickle\"\n",
    "zoomed_mask_BM = pickle.load(open(pickle_name_temp, \"rb\"))\n",
    "\n",
    "pickle_name_temp = f\"{data_path_masked_UC}/mask_list_UC.pickle\"\n",
    "zoomed_mask_UC = pickle.load(open(pickle_name_temp, \"rb\"))"
   ]
  },
  {
   "cell_type": "code",
   "execution_count": 8,
   "metadata": {},
   "outputs": [],
   "source": [
    "df_path = data_dir / \"BM_UC_indices_all.csv\"\n",
    "df_indices = pd.read_csv(df_path)"
   ]
  },
  {
   "cell_type": "code",
   "execution_count": 9,
   "metadata": {},
   "outputs": [],
   "source": [
    "df_BM = df_indices.loc[df_indices['CellType']=='BM']\n",
    "df_BM = df_BM.fillna('')\n",
    "cellList_BM = []\n",
    "for index, row in df_BM.iterrows(): \n",
    "    templist = []\n",
    "    if row.indices!='':\n",
    "        templist.append(literal_eval(row.indices))\n",
    "        cellList_BM.append(list(templist[0]))\n",
    "    else:\n",
    "        cellList_BM.append(templist)"
   ]
  },
  {
   "cell_type": "code",
   "execution_count": 10,
   "metadata": {},
   "outputs": [],
   "source": [
    "df_UC = df_indices.loc[df_indices['CellType']=='UC']\n",
    "df_UC = df_UC.fillna('')\n",
    "cellList_UC = []\n",
    "for index, row in df_UC.iterrows(): \n",
    "    templist = []\n",
    "    if row.indices!='':\n",
    "        templist.append(literal_eval(row.indices))\n",
    "        cellList_UC.append(list(templist[0]))\n",
    "    else:\n",
    "        cellList_UC.append(templist)"
   ]
  },
  {
   "cell_type": "markdown",
   "metadata": {},
   "source": [
    "### Function to calculate area and intensity"
   ]
  },
  {
   "cell_type": "code",
   "execution_count": 11,
   "metadata": {},
   "outputs": [],
   "source": [
    "def calculate_area_intensity(image_cell):\n",
    "    marker_temp = (image_cell).astype(np.uint8)\n",
    "    kernel_open = cv2.getStructuringElement(cv2.MORPH_ELLIPSE,(9,9))\n",
    "    kernel_close = cv2.getStructuringElement(cv2.MORPH_ELLIPSE,(11,11))\n",
    "    \n",
    "    ret,thresh_temp = cv2.threshold(marker_temp,0,255,cv2.THRESH_OTSU) # otsu thresholding\n",
    "    opening_temp = cv2.morphologyEx(thresh_temp, cv2.MORPH_OPEN, kernel_open)\n",
    "    closing_temp = cv2.morphologyEx(opening_temp, cv2.MORPH_CLOSE, kernel_close)\n",
    "    area_temp = closing_temp.ravel().sum() / 255\n",
    "    closing_img_temp = (closing_temp.copy().astype(np.float64) / 255) * image_cell\n",
    "    intensity_mean = closing_img_temp.mean()\n",
    "    return area_temp, intensity_mean"
   ]
  },
  {
   "cell_type": "markdown",
   "metadata": {},
   "source": [
    "### Area boxplot"
   ]
  },
  {
   "cell_type": "code",
   "execution_count": 12,
   "metadata": {},
   "outputs": [
    {
     "data": {
      "application/vnd.jupyter.widget-view+json": {
       "model_id": "fccb1e77243c4e7fa6f3ad605a51b162",
       "version_major": 2,
       "version_minor": 0
      },
      "text/plain": [
       "  0%|          | 0/32 [00:00<?, ?it/s]"
      ]
     },
     "metadata": {},
     "output_type": "display_data"
    }
   ],
   "source": [
    "areaDict_BM = {}\n",
    "intensityDict_BM = {}\n",
    "for cell in trange(len(cellList_BM)):\n",
    "    for entry in cellList_BM[cell]:\n",
    "        mask_temp = zoomed_mask_BM[cell].copy()\n",
    "        area_temp, intensity_temp = calculate_area_intensity(mask_temp)\n",
    "        dictKey = channel_names[entry]\n",
    "        if not dictKey in areaDict_BM.keys():\n",
    "            areaDict_BM[dictKey] = []\n",
    "        if not dictKey in intensityDict_BM.keys():\n",
    "            intensityDict_BM[dictKey] = []\n",
    "        areaDict_BM[dictKey].append(area_temp)\n",
    "        intensityDict_BM[dictKey].append(intensity_temp)"
   ]
  },
  {
   "cell_type": "code",
   "execution_count": 13,
   "metadata": {},
   "outputs": [
    {
     "data": {
      "application/vnd.jupyter.widget-view+json": {
       "model_id": "0735d772a28a4178be74133357ee75d5",
       "version_major": 2,
       "version_minor": 0
      },
      "text/plain": [
       "  0%|          | 0/35 [00:00<?, ?it/s]"
      ]
     },
     "metadata": {},
     "output_type": "display_data"
    }
   ],
   "source": [
    "areaDict_UC = {}\n",
    "intensityDict_UC = {}\n",
    "for cell in trange(len(cellList_UC)):\n",
    "    for entry in cellList_UC[cell]:\n",
    "        mask_temp = zoomed_mask_UC[cell].copy()\n",
    "        area_temp, intensity_temp = calculate_area_intensity(mask_temp)\n",
    "        dictKey = channel_names[entry]\n",
    "        if not dictKey in areaDict_UC.keys():\n",
    "            areaDict_UC[dictKey] = []\n",
    "        if not dictKey in intensityDict_UC.keys():\n",
    "            intensityDict_UC[dictKey] = []\n",
    "        areaDict_UC[dictKey].append(area_temp)\n",
    "        intensityDict_UC[dictKey].append(intensity_temp)"
   ]
  },
  {
   "cell_type": "code",
   "execution_count": 14,
   "metadata": {},
   "outputs": [],
   "source": [
    "area_df_BM = pd.DataFrame.from_dict(areaDict_BM.items())\n",
    "area_df_BM.columns = ['Marker', 'Area']\n",
    "area_df_BM['Cell Type'] = 'BM'"
   ]
  },
  {
   "cell_type": "code",
   "execution_count": 15,
   "metadata": {},
   "outputs": [],
   "source": [
    "area_df_UC = pd.DataFrame.from_dict(areaDict_UC.items())\n",
    "area_df_UC.columns = ['Marker', 'Area']\n",
    "area_df_UC['Cell Type'] = 'UC'"
   ]
  },
  {
   "cell_type": "code",
   "execution_count": 16,
   "metadata": {},
   "outputs": [],
   "source": [
    "area_df = pd.concat([area_df_BM, area_df_UC])\n",
    "area_df = area_df.explode('Area')\n",
    "area_df = area_df.sort_values(by=['Marker'])"
   ]
  },
  {
   "cell_type": "code",
   "execution_count": 17,
   "metadata": {},
   "outputs": [
    {
     "data": {
      "text/html": [
       "<div>\n",
       "<style scoped>\n",
       "    .dataframe tbody tr th:only-of-type {\n",
       "        vertical-align: middle;\n",
       "    }\n",
       "\n",
       "    .dataframe tbody tr th {\n",
       "        vertical-align: top;\n",
       "    }\n",
       "\n",
       "    .dataframe thead th {\n",
       "        text-align: right;\n",
       "    }\n",
       "</style>\n",
       "<table border=\"1\" class=\"dataframe\">\n",
       "  <thead>\n",
       "    <tr style=\"text-align: right;\">\n",
       "      <th></th>\n",
       "      <th>Marker</th>\n",
       "      <th>Area</th>\n",
       "      <th>Cell Type</th>\n",
       "    </tr>\n",
       "  </thead>\n",
       "  <tbody>\n",
       "    <tr>\n",
       "      <th>0</th>\n",
       "      <td>ATF6</td>\n",
       "      <td>101292.0</td>\n",
       "      <td>BM</td>\n",
       "    </tr>\n",
       "    <tr>\n",
       "      <th>0</th>\n",
       "      <td>ATF6</td>\n",
       "      <td>424409.0</td>\n",
       "      <td>UC</td>\n",
       "    </tr>\n",
       "    <tr>\n",
       "      <th>0</th>\n",
       "      <td>ATF6</td>\n",
       "      <td>590015.0</td>\n",
       "      <td>UC</td>\n",
       "    </tr>\n",
       "    <tr>\n",
       "      <th>0</th>\n",
       "      <td>ATF6</td>\n",
       "      <td>256888.0</td>\n",
       "      <td>UC</td>\n",
       "    </tr>\n",
       "    <tr>\n",
       "      <th>0</th>\n",
       "      <td>ATF6</td>\n",
       "      <td>473796.0</td>\n",
       "      <td>UC</td>\n",
       "    </tr>\n",
       "    <tr>\n",
       "      <th>...</th>\n",
       "      <td>...</td>\n",
       "      <td>...</td>\n",
       "      <td>...</td>\n",
       "    </tr>\n",
       "    <tr>\n",
       "      <th>10</th>\n",
       "      <td>WGA</td>\n",
       "      <td>303619.0</td>\n",
       "      <td>BM</td>\n",
       "    </tr>\n",
       "    <tr>\n",
       "      <th>10</th>\n",
       "      <td>WGA</td>\n",
       "      <td>155642.0</td>\n",
       "      <td>BM</td>\n",
       "    </tr>\n",
       "    <tr>\n",
       "      <th>10</th>\n",
       "      <td>WGA</td>\n",
       "      <td>338642.0</td>\n",
       "      <td>BM</td>\n",
       "    </tr>\n",
       "    <tr>\n",
       "      <th>10</th>\n",
       "      <td>WGA</td>\n",
       "      <td>299897.0</td>\n",
       "      <td>BM</td>\n",
       "    </tr>\n",
       "    <tr>\n",
       "      <th>10</th>\n",
       "      <td>WGA</td>\n",
       "      <td>179075.0</td>\n",
       "      <td>BM</td>\n",
       "    </tr>\n",
       "  </tbody>\n",
       "</table>\n",
       "<p>325 rows × 3 columns</p>\n",
       "</div>"
      ],
      "text/plain": [
       "   Marker      Area Cell Type\n",
       "0    ATF6  101292.0        BM\n",
       "0    ATF6  424409.0        UC\n",
       "0    ATF6  590015.0        UC\n",
       "0    ATF6  256888.0        UC\n",
       "0    ATF6  473796.0        UC\n",
       "..    ...       ...       ...\n",
       "10    WGA  303619.0        BM\n",
       "10    WGA  155642.0        BM\n",
       "10    WGA  338642.0        BM\n",
       "10    WGA  299897.0        BM\n",
       "10    WGA  179075.0        BM\n",
       "\n",
       "[325 rows x 3 columns]"
      ]
     },
     "execution_count": 17,
     "metadata": {},
     "output_type": "execute_result"
    }
   ],
   "source": [
    "area_df"
   ]
  },
  {
   "cell_type": "code",
   "execution_count": 18,
   "metadata": {},
   "outputs": [],
   "source": [
    "area_df['Area'] = area_df['Area'].values.astype(float)\n",
    "area_df.groupby([\"Marker\",\"Cell Type\"]).agg({'Area': ['min', 'mean', 'median', 'max']}).to_csv(\"temp_area.csv\")"
   ]
  },
  {
   "cell_type": "code",
   "execution_count": 19,
   "metadata": {},
   "outputs": [
    {
     "name": "stdout",
     "output_type": "stream",
     "text": [
      "p-value annotation legend:\n",
      "ns: 5.00e-02 < p <= 1.00e+00\n",
      "*: 1.00e-02 < p <= 5.00e-02\n",
      "**: 1.00e-03 < p <= 1.00e-02\n",
      "***: 1.00e-04 < p <= 1.00e-03\n",
      "****: p <= 1.00e-04\n",
      "\n",
      "TOM20_BM v.s. TOM20_UC: Mann-Whitney-Wilcoxon test two-sided, P_val=1.740e-01 U_stat=9.100e+01\n",
      "WGA_BM v.s. WGA_UC: Mann-Whitney-Wilcoxon test two-sided, P_val=4.845e-01 U_stat=2.700e+01\n",
      "Sortilin_BM v.s. Sortilin_UC: Mann-Whitney-Wilcoxon test two-sided, P_val=1.017e-01 U_stat=6.700e+01\n",
      "BetaTubulin_BM v.s. BetaTubulin_UC: Mann-Whitney-Wilcoxon test two-sided, P_val=8.532e-02 U_stat=5.700e+01\n",
      "ATF6_BM v.s. ATF6_UC: Mann-Whitney-Wilcoxon test two-sided, P_val=7.130e-02 U_stat=9.000e+01\n",
      "ConcanavalinA_BM v.s. ConcanavalinA_UC: Mann-Whitney-Wilcoxon test two-sided, P_val=8.252e-01 U_stat=2.000e+01\n",
      "DAPI_BM v.s. DAPI_UC: Mann-Whitney-Wilcoxon test two-sided, P_val=1.146e-01 U_stat=1.490e+02\n",
      "GOLPH4_BM v.s. GOLPH4_UC: Mann-Whitney-Wilcoxon test two-sided, P_val=1.708e-01 U_stat=1.110e+02\n",
      "HSP60_BM v.s. HSP60_UC: Mann-Whitney-Wilcoxon test two-sided, P_val=4.253e-01 U_stat=6.800e+01\n",
      "Nucleolin_BM v.s. Nucleolin_UC: Mann-Whitney-Wilcoxon test two-sided, P_val=9.620e-02 U_stat=1.380e+02\n",
      "Phalloidin_BM v.s. Phalloidin_UC: Mann-Whitney-Wilcoxon test two-sided, P_val=9.225e-01 U_stat=5.200e+01\n"
     ]
    },
    {
     "data": {
      "image/png": "[encoded data removed]",
      "text/plain": [
       "<Figure size 720x432 with 1 Axes>"
      ]
     },
     "metadata": {},
     "output_type": "display_data"
    }
   ],
   "source": [
    "sns.set_theme(style=\"whitegrid\")\n",
    "plt.figure(figsize=(10, 6))\n",
    "plt.title('Area of markers')\n",
    "\n",
    "data = area_df\n",
    "x = \"Marker\"\n",
    "y = \"Area\"\n",
    "hue = \"Cell Type\"\n",
    "hue_order=['BM', 'UC']\n",
    "channels = data[\"Marker\"].unique()\n",
    "box_pairs=[((chan, \"BM\"), (chan, \"UC\")) for chan in channels]\n",
    "\n",
    "g = sns.boxplot(data=data, hue=hue, x=x, y=y)\n",
    "\n",
    "ax, stats = add_stat_annotation(g, data=data, x=x, y=y, hue=hue, box_pairs=box_pairs,\n",
    "                    test='Mann-Whitney', loc='inside', verbose=2, comparisons_correction=None, fontsize = 24)\n",
    "g.figure.axes[-1].yaxis.label.set_size(20)\n",
    "g.set_xticklabels(g.get_xmajorticklabels(), fontsize = 20, rotation=90)\n",
    "# g.set_yticklabels(g.get_ymajorticklabels(), fontsize = 20)\n",
    "g.set_title(f\"Area of markers\",fontsize= 20, pad=10, fontweight =\"bold\")\n",
    "g.set_xlabel(\"\",fontsize=1)\n",
    "g.set_ylabel(\"Area\",fontsize=20)\n",
    "handles, labels = g.get_legend_handles_labels()\n",
    "g.legend(handles[:2], labels[:2], title='Cell Type', fontsize=15, title_fontsize=20, loc='center left', bbox_to_anchor=(1, 0.5))\n",
    "plt.tight_layout()\n",
    "image_path_png = save_path+\"/area_BM_UC.png\"\n",
    "plt.savefig(image_path_png, bbox_inches=\"tight\")\n",
    "plt.show()\n",
    "\n",
    "tbl = pd.DataFrame()\n",
    "# format table for supplementary\n",
    "data = data.groupby(['Cell Type', \"Marker\"]).agg({'Area': ['min', 'mean', 'median', 'max']})\n",
    "# concat BM and UC\n",
    "data_BM = data.loc[data.index.get_level_values(0) == 'BM']\n",
    "data_BM = data_BM.droplevel(0)\n",
    "data_BM.columns = ['_'.join(pair) + '_BM' for pair in data_BM.columns]\n",
    "\n",
    "data_UC = data.loc[data.index.get_level_values(0) == 'UC']\n",
    "data_UC = data_UC.droplevel(0)\n",
    "data_UC.columns = ['_'.join(pair) + '_UC' for pair in data_UC.columns]\n",
    "\n",
    "data = pd.concat([data_BM, data_UC], axis = 1)\n",
    "\n",
    "# add stats test results\n",
    "dfStat = pd.DataFrame()\n",
    "for jj, stat in enumerate(stats): # each stat result\n",
    "    res = stat.__dict__\n",
    "    markerComp = res['box1'][0]\n",
    "    pval = res['pval']\n",
    "    uStat = res['stat']\n",
    "\n",
    "    dfSub = {'Marker': markerComp, \n",
    "            'P_val': pval,\n",
    "            'U_stat': uStat}\n",
    "    dfSub = pd.DataFrame(dfSub, index = [0])\n",
    "    dfStat = pd.concat([dfStat, dfSub])\n",
    "\n",
    "dfStat.set_index('Marker', inplace = True)\n",
    "\n",
    "# merge stats \n",
    "data = data.merge(dfStat, how = 'outer', left_index = True, right_index = True)\n",
    "    \n",
    "tbl = pd.concat([tbl, data]) # ordered by group\n",
    "            \n",
    "tbl.reset_index(drop = False, inplace = True)\n",
    "# export table to excel\n",
    "fileOut = os.path.join(save_path, 'area_table.xlsx')\n",
    "tbl.to_excel(fileOut)"
   ]
  },
  {
   "cell_type": "markdown",
   "metadata": {},
   "source": [
    "### Intensity boxplot"
   ]
  },
  {
   "cell_type": "code",
   "execution_count": 20,
   "metadata": {},
   "outputs": [],
   "source": [
    "intensity_df_BM = pd.DataFrame.from_dict(intensityDict_BM.items())\n",
    "intensity_df_BM.columns = ['Marker', 'Intensity']\n",
    "intensity_df_BM['Cell Type'] = 'BM'"
   ]
  },
  {
   "cell_type": "code",
   "execution_count": 21,
   "metadata": {},
   "outputs": [],
   "source": [
    "intensity_df_UC = pd.DataFrame.from_dict(intensityDict_UC.items())\n",
    "intensity_df_UC.columns = ['Marker', 'Intensity']\n",
    "intensity_df_UC['Cell Type'] = 'UC'"
   ]
  },
  {
   "cell_type": "code",
   "execution_count": 22,
   "metadata": {},
   "outputs": [],
   "source": [
    "intensity_df = pd.concat([intensity_df_BM, intensity_df_UC])\n",
    "intensity_df = intensity_df.explode('Intensity')\n",
    "intensity_df = intensity_df.sort_values(by=['Marker'])"
   ]
  },
  {
   "cell_type": "code",
   "execution_count": 23,
   "metadata": {},
   "outputs": [],
   "source": [
    "intensity_df['Intensity'] = intensity_df['Intensity'].values.astype(float)\n",
    "intensity_df.groupby([\"Marker\",\"Cell Type\"]).agg({'Intensity': ['min', 'mean', 'median', 'max']}).to_csv(\"temp_Intensity.csv\")"
   ]
  },
  {
   "cell_type": "code",
   "execution_count": 24,
   "metadata": {},
   "outputs": [
    {
     "name": "stdout",
     "output_type": "stream",
     "text": [
      "p-value annotation legend:\n",
      "ns: 5.00e-02 < p <= 1.00e+00\n",
      "*: 1.00e-02 < p <= 5.00e-02\n",
      "**: 1.00e-03 < p <= 1.00e-02\n",
      "***: 1.00e-04 < p <= 1.00e-03\n",
      "****: p <= 1.00e-04\n",
      "\n",
      "TOM20_BM v.s. TOM20_UC: Mann-Whitney-Wilcoxon test two-sided, P_val=7.626e-01 U_stat=1.360e+02\n",
      "WGA_BM v.s. WGA_UC: Mann-Whitney-Wilcoxon test two-sided, P_val=3.420e-01 U_stat=4.800e+01\n",
      "Sortilin_BM v.s. Sortilin_UC: Mann-Whitney-Wilcoxon test two-sided, P_val=7.434e-01 U_stat=1.130e+02\n",
      "BetaTubulin_BM v.s. BetaTubulin_UC: Mann-Whitney-Wilcoxon test two-sided, P_val=8.008e-01 U_stat=8.900e+01\n",
      "ATF6_BM v.s. ATF6_UC: Mann-Whitney-Wilcoxon test two-sided, P_val=3.315e-01 U_stat=1.710e+02\n",
      "ConcanavalinA_BM v.s. ConcanavalinA_UC: Mann-Whitney-Wilcoxon test two-sided, P_val=2.601e-01 U_stat=2.600e+01\n",
      "DAPI_BM v.s. DAPI_UC: Mann-Whitney-Wilcoxon test two-sided, P_val=7.053e-01 U_stat=2.250e+02\n",
      "GOLPH4_BM v.s. GOLPH4_UC: Mann-Whitney-Wilcoxon test two-sided, P_val=4.987e-01 U_stat=1.740e+02\n",
      "HSP60_BM v.s. HSP60_UC: Mann-Whitney-Wilcoxon test two-sided, P_val=9.795e-01 U_stat=8.500e+01\n",
      "Nucleolin_BM v.s. Nucleolin_UC: Mann-Whitney-Wilcoxon test two-sided, P_val=8.817e-01 U_stat=2.060e+02\n",
      "Phalloidin_BM v.s. Phalloidin_UC: Mann-Whitney-Wilcoxon test two-sided, P_val=1.765e-01 U_stat=7.500e+01\n"
     ]
    },
    {
     "name": "stderr",
     "output_type": "stream",
     "text": [
      "C:\\Users\\NZHANG~1\\AppData\\Local\\Temp/ipykernel_104724/2957502109.py:19: UserWarning: FixedFormatter should only be used together with FixedLocator\n",
      "  g.set_yticklabels(g.get_ymajorticklabels(), fontsize = 20)\n"
     ]
    },
    {
     "data": {
      "image/png": "[encoded data removed]",
      "text/plain": [
       "<Figure size 720x432 with 1 Axes>"
      ]
     },
     "metadata": {},
     "output_type": "display_data"
    }
   ],
   "source": [
    "sns.set_theme(style=\"whitegrid\")\n",
    "plt.figure(figsize=(10, 6))\n",
    "plt.title('Intensity of markers')\n",
    "\n",
    "data = intensity_df\n",
    "x = \"Marker\"\n",
    "y = \"Intensity\"\n",
    "hue = \"Cell Type\"\n",
    "hue_order=['BM', 'UC']\n",
    "channels = data[\"Marker\"].unique()\n",
    "box_pairs=[((chan, \"BM\"), (chan, \"UC\")) for chan in channels]\n",
    "\n",
    "g = sns.boxplot(data=data, hue=hue, x=x, y=y) #palette=\"Set3\", \n",
    "\n",
    "add_stat_annotation(g, data=data, x=x, y=y, hue=hue, box_pairs=box_pairs,\n",
    "                    test='Mann-Whitney', loc='inside', verbose=2, comparisons_correction=None, fontsize = 24)\n",
    "g.figure.axes[-1].yaxis.label.set_size(20)\n",
    "g.set_xticklabels(g.get_xmajorticklabels(), fontsize = 20, rotation=90)\n",
    "g.set_yticklabels(g.get_ymajorticklabels(), fontsize = 20)\n",
    "g.set_title(f\"Mean Intensity of Markers\",fontsize= 20, pad=10, fontweight =\"bold\")\n",
    "g.set_xlabel(\"\",fontsize=1)\n",
    "g.set_ylabel(\"Mean Intensity\",fontsize=20)\n",
    "handles, labels = g.get_legend_handles_labels()\n",
    "g.legend(handles[:2], labels[:2], title='Cell Type', fontsize=15, title_fontsize=20, loc='center left', bbox_to_anchor=(1, 0.5))\n",
    "plt.tight_layout()\n",
    "image_path_png = save_path+\"/intensity_BM_UC.png\"\n",
    "plt.savefig(image_path_png, bbox_inches=\"tight\")\n",
    "plt.show()\n",
    "\n",
    "tbl = pd.DataFrame()\n",
    "# format table for supplementary\n",
    "data = data.groupby(['Cell Type', \"Marker\"]).agg({'Intensity': ['min', 'mean', 'median', 'max']})\n",
    "# concat BM and UC\n",
    "data_BM = data.loc[data.index.get_level_values(0) == 'BM']\n",
    "data_BM = data_BM.droplevel(0)\n",
    "data_BM.columns = ['_'.join(pair) + '_BM' for pair in data_BM.columns]\n",
    "\n",
    "data_UC = data.loc[data.index.get_level_values(0) == 'UC']\n",
    "data_UC = data_UC.droplevel(0)\n",
    "data_UC.columns = ['_'.join(pair) + '_UC' for pair in data_UC.columns]\n",
    "\n",
    "data = pd.concat([data_BM, data_UC], axis = 1)\n",
    "\n",
    "# add stats test results\n",
    "dfStat = pd.DataFrame()\n",
    "for jj, stat in enumerate(stats): # each stat result\n",
    "    res = stat.__dict__\n",
    "    markerComp = res['box1'][0]\n",
    "    pval = res['pval']\n",
    "    uStat = res['stat']\n",
    "\n",
    "    dfSub = {'Marker': markerComp, \n",
    "            'P_val': pval,\n",
    "            'U_stat': uStat}\n",
    "    dfSub = pd.DataFrame(dfSub, index = [0])\n",
    "    dfStat = pd.concat([dfStat, dfSub])\n",
    "\n",
    "dfStat.set_index('Marker', inplace = True)\n",
    "\n",
    "# merge stats \n",
    "data = data.merge(dfStat, how = 'outer', left_index = True, right_index = True)\n",
    "    \n",
    "tbl = pd.concat([tbl, data]) # ordered by group\n",
    "            \n",
    "tbl.reset_index(drop = False, inplace = True)\n",
    "# export table to excel\n",
    "fileOut = os.path.join(save_path, 'intensity_table.xlsx')\n",
    "tbl.to_excel(fileOut)"
   ]
  }
 ],
 "metadata": {
  "kernelspec": {
   "display_name": "Python 3 (ipykernel)",
   "language": "python",
   "name": "python3"
  },
  "language_info": {
   "codemirror_mode": {
    "name": "ipython",
    "version": 3
   },
   "file_extension": ".py",
   "mimetype": "text/x-python",
   "name": "python",
   "nbconvert_exporter": "python",
   "pygments_lexer": "ipython3",
   "version": "3.8.12"
  }
 },
 "nbformat": 4,
 "nbformat_minor": 4
}
